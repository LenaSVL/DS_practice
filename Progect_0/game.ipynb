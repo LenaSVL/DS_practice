{
 "cells": [
  {
   "cell_type": "code",
   "execution_count": null,
   "metadata": {},
   "outputs": [
    {
     "ename": "ModuleNotFoundError",
     "evalue": "No module named 'numpy'",
     "output_type": "error",
     "traceback": [
      "\u001b[0;31m---------------------------------------------------------------------------\u001b[0m",
      "\u001b[0;31mModuleNotFoundError\u001b[0m                       Traceback (most recent call last)",
      "\u001b[1;32m/Users/lenasaveleva/Downloads/IDE/game.py/game.ipynb Cell 1'\u001b[0m in \u001b[0;36m<cell line: 1>\u001b[0;34m()\u001b[0m\n\u001b[0;32m----> <a href='vscode-notebook-cell:/Users/lenasaveleva/Downloads/IDE/game.py/game.ipynb#ch0000000?line=0'>1</a>\u001b[0m \u001b[39mimport\u001b[39;00m \u001b[39mgame_v2\u001b[39;00m\n",
      "File \u001b[0;32m~/Downloads/IDE/game.py/game_v2.py:3\u001b[0m, in \u001b[0;36m<module>\u001b[0;34m\u001b[0m\n\u001b[1;32m      <a href='file:///Users/lenasaveleva/Downloads/IDE/game.py/game_v2.py?line=0'>1</a>\u001b[0m \u001b[39m'''Игра угадай число/ Компьютер сам загадывает и угадывает число'''\u001b[39;00m\n\u001b[0;32m----> <a href='file:///Users/lenasaveleva/Downloads/IDE/game.py/game_v2.py?line=2'>3</a>\u001b[0m \u001b[39mimport\u001b[39;00m \u001b[39mnumpy\u001b[39;00m \u001b[39mas\u001b[39;00m \u001b[39mnp\u001b[39;00m\n\u001b[1;32m      <a href='file:///Users/lenasaveleva/Downloads/IDE/game.py/game_v2.py?line=4'>5</a>\u001b[0m \u001b[39mdef\u001b[39;00m \u001b[39mrandom_predict\u001b[39m(number:\u001b[39mint\u001b[39m\u001b[39m=\u001b[39m\u001b[39m1\u001b[39m) \u001b[39m-\u001b[39m\u001b[39m>\u001b[39m \u001b[39mint\u001b[39m:\n\u001b[1;32m      <a href='file:///Users/lenasaveleva/Downloads/IDE/game.py/game_v2.py?line=5'>6</a>\u001b[0m     \u001b[39m\"\"\"Рандомно угадываем число\u001b[39;00m\n\u001b[1;32m      <a href='file:///Users/lenasaveleva/Downloads/IDE/game.py/game_v2.py?line=6'>7</a>\u001b[0m \n\u001b[1;32m      <a href='file:///Users/lenasaveleva/Downloads/IDE/game.py/game_v2.py?line=7'>8</a>\u001b[0m \u001b[39m    Args:\u001b[39;00m\n\u001b[0;32m   (...)\u001b[0m\n\u001b[1;32m     <a href='file:///Users/lenasaveleva/Downloads/IDE/game.py/game_v2.py?line=11'>12</a>\u001b[0m \u001b[39m        int: Число попыток\u001b[39;00m\n\u001b[1;32m     <a href='file:///Users/lenasaveleva/Downloads/IDE/game.py/game_v2.py?line=12'>13</a>\u001b[0m \u001b[39m    \"\"\"\u001b[39;00m\n",
      "\u001b[0;31mModuleNotFoundError\u001b[0m: No module named 'numpy'"
     ]
    }
   ],
   "source": [
    "import game_v2"
   ]
  },
  {
   "cell_type": "code",
   "execution_count": null,
   "metadata": {},
   "outputs": [
    {
     "ename": "NameError",
     "evalue": "name 'game_v2' is not defined",
     "output_type": "error",
     "traceback": [
      "\u001b[0;31m---------------------------------------------------------------------------\u001b[0m",
      "\u001b[0;31mNameError\u001b[0m                                 Traceback (most recent call last)",
      "\u001b[1;32m/Users/lenasaveleva/Downloads/IDE/game.py/game.ipynb Cell 2'\u001b[0m in \u001b[0;36m<cell line: 1>\u001b[0;34m()\u001b[0m\n\u001b[0;32m----> <a href='vscode-notebook-cell:/Users/lenasaveleva/Downloads/IDE/game.py/game.ipynb#ch0000002?line=0'>1</a>\u001b[0m game_v2\u001b[39m.\u001b[39mscore_game(game_v2\u001b[39m.\u001b[39mrandom_predict)\n",
      "\u001b[0;31mNameError\u001b[0m: name 'game_v2' is not defined"
     ]
    }
   ],
   "source": [
    "game_v2.score_game(game_v2.random_predict)"
   ]
  },
  {
   "cell_type": "markdown",
   "metadata": {},
   "source": [
    "# Игра угадай число"
   ]
  },
  {
   "cell_type": "code",
   "execution_count": null,
   "metadata": {},
   "outputs": [
    {
     "ename": "ModuleNotFoundError",
     "evalue": "No module named 'numpy'",
     "output_type": "error",
     "traceback": [
      "\u001b[0;31m---------------------------------------------------------------------------\u001b[0m",
      "\u001b[0;31mModuleNotFoundError\u001b[0m                       Traceback (most recent call last)",
      "\u001b[1;32m/Users/lenasaveleva/Downloads/IDE/game.py/game.ipynb Cell 4'\u001b[0m in \u001b[0;36m<cell line: 1>\u001b[0;34m()\u001b[0m\n\u001b[0;32m----> <a href='vscode-notebook-cell:/Users/lenasaveleva/Downloads/IDE/game.py/game.ipynb#ch0000003?line=0'>1</a>\u001b[0m \u001b[39mfrom\u001b[39;00m \u001b[39mgame_v2\u001b[39;00m \u001b[39mimport\u001b[39;00m score_game\n\u001b[1;32m      <a href='vscode-notebook-cell:/Users/lenasaveleva/Downloads/IDE/game.py/game.ipynb#ch0000003?line=1'>2</a>\u001b[0m \u001b[39mfrom\u001b[39;00m \u001b[39mgame_v2\u001b[39;00m \u001b[39mimport\u001b[39;00m random_predict\n",
      "File \u001b[0;32m~/Downloads/IDE/game.py/game_v2.py:3\u001b[0m, in \u001b[0;36m<module>\u001b[0;34m\u001b[0m\n\u001b[1;32m      <a href='file:///Users/lenasaveleva/Downloads/IDE/game.py/game_v2.py?line=0'>1</a>\u001b[0m \u001b[39m'''Игра угадай число/ Компьютер сам загадывает и угадывает число'''\u001b[39;00m\n\u001b[0;32m----> <a href='file:///Users/lenasaveleva/Downloads/IDE/game.py/game_v2.py?line=2'>3</a>\u001b[0m \u001b[39mimport\u001b[39;00m \u001b[39mnumpy\u001b[39;00m \u001b[39mas\u001b[39;00m \u001b[39mnp\u001b[39;00m\n\u001b[1;32m      <a href='file:///Users/lenasaveleva/Downloads/IDE/game.py/game_v2.py?line=4'>5</a>\u001b[0m \u001b[39mdef\u001b[39;00m \u001b[39mrandom_predict\u001b[39m(number:\u001b[39mint\u001b[39m\u001b[39m=\u001b[39m\u001b[39m1\u001b[39m) \u001b[39m-\u001b[39m\u001b[39m>\u001b[39m \u001b[39mint\u001b[39m:\n\u001b[1;32m      <a href='file:///Users/lenasaveleva/Downloads/IDE/game.py/game_v2.py?line=5'>6</a>\u001b[0m     \u001b[39m\"\"\"Рандомно угадываем число\u001b[39;00m\n\u001b[1;32m      <a href='file:///Users/lenasaveleva/Downloads/IDE/game.py/game_v2.py?line=6'>7</a>\u001b[0m \n\u001b[1;32m      <a href='file:///Users/lenasaveleva/Downloads/IDE/game.py/game_v2.py?line=7'>8</a>\u001b[0m \u001b[39m    Args:\u001b[39;00m\n\u001b[0;32m   (...)\u001b[0m\n\u001b[1;32m     <a href='file:///Users/lenasaveleva/Downloads/IDE/game.py/game_v2.py?line=11'>12</a>\u001b[0m \u001b[39m        int: Число попыток\u001b[39;00m\n\u001b[1;32m     <a href='file:///Users/lenasaveleva/Downloads/IDE/game.py/game_v2.py?line=12'>13</a>\u001b[0m \u001b[39m    \"\"\"\u001b[39;00m\n",
      "\u001b[0;31mModuleNotFoundError\u001b[0m: No module named 'numpy'"
     ]
    }
   ],
   "source": [
    "from game_v2 import score_game\n",
    "from game_v2 import random_predict"
   ]
  },
  {
   "cell_type": "markdown",
   "metadata": {},
   "source": [
    "## Угадываем рандомно"
   ]
  },
  {
   "cell_type": "code",
   "execution_count": null,
   "metadata": {},
   "outputs": [
    {
     "ename": "NameError",
     "evalue": "name 'score_game' is not defined",
     "output_type": "error",
     "traceback": [
      "\u001b[0;31m---------------------------------------------------------------------------\u001b[0m",
      "\u001b[0;31mNameError\u001b[0m                                 Traceback (most recent call last)",
      "\u001b[1;32m/Users/lenasaveleva/Downloads/IDE/game.py/game.ipynb Cell 4'\u001b[0m in \u001b[0;36m<cell line: 1>\u001b[0;34m()\u001b[0m\n\u001b[0;32m----> <a href='vscode-notebook-cell:/Users/lenasaveleva/Downloads/IDE/game.py/game.ipynb#ch0000007?line=0'>1</a>\u001b[0m score_game(random_predict)\n",
      "\u001b[0;31mNameError\u001b[0m: name 'score_game' is not defined"
     ]
    }
   ],
   "source": [
    "score_game(random_predict)"
   ]
  },
  {
   "cell_type": "code",
   "execution_count": null,
   "metadata": {},
   "outputs": [],
   "source": []
  },
  {
   "cell_type": "code",
   "execution_count": null,
   "metadata": {},
   "outputs": [],
   "source": []
  },
  {
   "cell_type": "code",
   "execution_count": null,
   "metadata": {},
   "outputs": [],
   "source": [
    "n=10\n",
    "z=n\n",
    "n=5"
   ]
  }
 ],
 "metadata": {
  "kernelspec": {
   "display_name": "Python 3.10.4 64-bit",
   "language": "python",
   "name": "python3"
  },
  "language_info": {
   "codemirror_mode": {
    "name": "ipython",
    "version": 3
   },
   "file_extension": ".py",
   "mimetype": "text/x-python",
   "name": "python",
   "nbconvert_exporter": "python",
   "pygments_lexer": "ipython3",
   "version": "3.10.4"
  },
  "orig_nbformat": 4,
  "vscode": {
   "interpreter": {
    "hash": "7e1998ff7f8aa20ada591c520b972326324e5ea05489af9e422744c7c09f6dad"
   }
  }
 },
 "nbformat": 4,
 "nbformat_minor": 2
}
